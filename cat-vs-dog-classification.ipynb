{
 "cells": [
  {
   "cell_type": "code",
   "execution_count": null,
   "metadata": {},
   "outputs": [],
   "source": [
    "from tensorflow.keras.preprocessing.image import ImageDataGenerator,load_img\n",
    "from tensorflow.keras.models import Sequential\n",
    "from tensorflow.keras.layers import Conv2D,MaxPooling2D\n",
    "from tensorflow.keras.layers import Activation,Dropout,Flatten,Dense\n",
    "from tensorflow.keras import backend as K\n",
    "\n",
    "from tensorflow.keras.models import load_model\n",
    "from tensorflow.keras.preprocessing import image\n",
    "import numpy as np\n",
    "from os import listdir\n",
    "from os.path import isfile,join\n"
   ]
  },
  {
   "cell_type": "code",
   "execution_count": null,
   "metadata": {},
   "outputs": [],
   "source": [
    "img_width=150\n",
    "img_height=150\n",
    "\n",
    "train_data_dir=r'C:\\Users\\Lenovo\\Downloads\\dogs_cats_sample_1000\\dogs_cats_sample_1000\\train'\n",
    "validation_data_dir=r'C:\\Users\\Lenovo\\Downloads\\dogs_cats_sample_1000\\dogs_cats_sample_1000\\valid'\n",
    "train_samples=120\n",
    "validation_samples=30\n",
    "epochs=5\n",
    "batch_size=20\n",
    "if K.image_data_format()=='channels_first':\n",
    "    input_shape=(3,img_width,img_height)\n",
    "else:\n",
    "    input_shape=(img_width,img_height,3)\n"
   ]
  },
  {
   "cell_type": "code",
   "execution_count": null,
   "metadata": {},
   "outputs": [],
   "source": [
    "model=Sequential()\n",
    "model.add(Conv2D(32,(3,3),input_shape=input_shape))\n",
    "model.add(Activation('relu'))\n",
    "model.add(MaxPooling2D(pool_size=(2,2)))\n",
    "\n",
    "model.add(Conv2D(32,(3,3)))\n",
    "model.add(Activation('relu'))\n",
    "model.add(MaxPooling2D(pool_size=(2,2)))\n",
    "\n",
    "\n",
    "model.add(Conv2D(64,(3,3)))\n",
    "model.add(Activation('relu'))\n",
    "model.add(MaxPooling2D(pool_size=(2,2)))\n",
    "\n",
    "\n",
    "model.add(Flatten())\n",
    "model.add(Dense(64))\n",
    "model.add(Activation('relu'))\n",
    "model.add(Dropout(0.5))\n",
    "model.add(Dense(1))\n",
    "model.add(Activation('sigmoid'))"
   ]
  },
  {
   "cell_type": "code",
   "execution_count": null,
   "metadata": {},
   "outputs": [],
   "source": [
    "import tensorflow.keras\n",
    "from tensorflow.keras import optimizers\n",
    "model.compile(loss='binary_crossentropy',optimizer=tensorflow.keras.optimizers.Adam(lr=.0001),metrics=['accuracy'])\n"
   ]
  },
  {
   "cell_type": "code",
   "execution_count": null,
   "metadata": {},
   "outputs": [],
   "source": [
    "train_datagen=ImageDataGenerator(\n",
    "rescale=1./255,\n",
    "shear_range=0.2,\n",
    "zoom_range=0.2,\n",
    "horizontal_flip=True)\n",
    "test_datagen=ImageDataGenerator(rescale=1./255)"
   ]
  },
  {
   "cell_type": "code",
   "execution_count": null,
   "metadata": {},
   "outputs": [],
   "source": [
    "train_generator=train_datagen.flow_from_directory(\n",
    "train_data_dir,\n",
    "target_size=(img_width,img_height),\n",
    "batch_size=batch_size,\n",
    "class_mode='binary')"
   ]
  },
  {
   "cell_type": "code",
   "execution_count": null,
   "metadata": {},
   "outputs": [],
   "source": [
    "print(train_generator.class_indices)"
   ]
  },
  {
   "cell_type": "code",
   "execution_count": null,
   "metadata": {},
   "outputs": [],
   "source": [
    "imgs,labels=next(train_generator)"
   ]
  },
  {
   "cell_type": "code",
   "execution_count": null,
   "metadata": {},
   "outputs": [],
   "source": [
    "from  skimage import io\n",
    "\n",
    "def imshow(image_RGB):\n",
    "    io.imshow(image_RGB)\n",
    "    io.show()"
   ]
  },
  {
   "cell_type": "code",
   "execution_count": null,
   "metadata": {},
   "outputs": [],
   "source": [
    "import matplotlib.pyplot as plt\n",
    "%matplotlib inline\n",
    "\n",
    "image_batch,label_batch=train_generator.next()\n",
    "\n",
    "print(len(image_batch))\n",
    "for i in range(0,len(image_batch)):\n",
    "    image = image_batch[i]\n",
    "    print(label_batch[i])\n",
    "    imshow(image)"
   ]
  },
  {
   "cell_type": "code",
   "execution_count": null,
   "metadata": {},
   "outputs": [],
   "source": [
    "validation_generator=test_datagen.flow_from_directory(\n",
    "validation_data_dir,\n",
    "target_size=(img_width,img_height),\n",
    "batch_size=batch_size,\n",
    "class_mode='binary')\n"
   ]
  },
  {
   "cell_type": "code",
   "execution_count": null,
   "metadata": {},
   "outputs": [],
   "source": [
    "history=model.fit_generator(\n",
    "train_generator,\n",
    "steps_per_epoch=train_samples,\n",
    "epochs=epochs,\n",
    "validation_data=validation_generator,\n",
    "validation_steps=validation_samples)"
   ]
  },
  {
   "cell_type": "code",
   "execution_count": null,
   "metadata": {},
   "outputs": [],
   "source": [
    "predict_dir_path=r''#enter your testing image directory path here and u will get the prediction\n",
    "onlyfiles=[f for f in listdir(predict_dir_path) if isfile(join(predict_dir_path,f))]\n",
    "print(onlyfiles)"
   ]
  },
  {
   "cell_type": "code",
   "execution_count": null,
   "metadata": {},
   "outputs": [],
   "source": [
    "from tensorflow.keras.preprocessing import image\n",
    "dog_counter=0\n",
    "cat_counter=0\n",
    "for file in onlyfiles:\n",
    "    img=image.load_img(predict_dir_path+file,target_size=(img_width,img_height))\n",
    "    x=image.img_to_array(img)\n",
    "    x=np.expand_dims(x,axis=o)\n",
    "    \n",
    "    images=np.vstack([x])\n",
    "    classes=model.predict_classes(images,batch_size=10)\n",
    "    classes=classes[0][0]\n",
    "    \n",
    "    if classes == 0:\n",
    "        print(file +\": \" + 'cat')\n",
    "        cat_counter+=1\n",
    "    else:\n",
    "        print(file + \":\" + 'dog')\n",
    "        dog_counter+=1\n",
    "print(\"Total Dogs :\", dog_counter) \n",
    "print(\"Total Cats:\",cat_counter)"
   ]
  },
  {
   "cell_type": "code",
   "execution_count": null,
   "metadata": {},
   "outputs": [],
   "source": []
  }
 ],
 "metadata": {
  "kernelspec": {
   "display_name": "Python 3",
   "language": "python",
   "name": "python3"
  },
  "language_info": {
   "codemirror_mode": {
    "name": "ipython",
    "version": 3
   },
   "file_extension": ".py",
   "mimetype": "text/x-python",
   "name": "python",
   "nbconvert_exporter": "python",
   "pygments_lexer": "ipython3",
   "version": "3.7.6"
  }
 },
 "nbformat": 4,
 "nbformat_minor": 4
}
